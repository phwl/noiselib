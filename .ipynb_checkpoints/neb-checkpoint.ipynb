{
 "cells": [
  {
   "cell_type": "markdown",
   "id": "1fc5b91a",
   "metadata": {},
   "source": [
    "# Noise Equivalent Bandwidth for a Low Pass Filter"
   ]
  },
  {
   "cell_type": "markdown",
   "id": "f347aeeb",
   "metadata": {},
   "source": [
    "The Noise Equivalent Bandwidth (NEB) of a filter is the bandwidth of an equivalent rectangular (brick wall) filter that passes the same amount of noise power as the actual filter. For a filter with response $H(w)$ this is given by: $$\\text{ENBW}=\\int_{w_1}^{w_2} |H(w)|^2 dw$$"
   ]
  },
  {
   "cell_type": "code",
   "execution_count": 20,
   "id": "94176015",
   "metadata": {},
   "outputs": [],
   "source": [
    "import noiselib as nl"
   ]
  },
  {
   "cell_type": "code",
   "execution_count": 21,
   "id": "444b8543-15a2-4ea3-b5fc-761c57fa4c87",
   "metadata": {},
   "outputs": [
    {
     "data": {
      "text/markdown": [
       "| Order | ENBW  |\n",
       "|-------|-------|\n",
       "| 1 | 1.5708 |\n",
       "| 2 | 1.1107 |\n",
       "| 3 | 1.0472 |\n",
       "| 4 | 1.0262 |\n"
      ],
      "text/plain": [
       "<IPython.core.display.Markdown object>"
      ]
     },
     "metadata": {},
     "output_type": "display_data"
    }
   ],
   "source": [
    "from IPython.display import display, Markdown, Latex\n",
    "out = f'''| Order | ENBW  |\n",
    "|-------|-------|\\n'''\n",
    "for N in range(1, 5):\n",
    "    out += f'| {N} | {nl.enbw(N):.4f} |\\n'\n",
    "display(Markdown(out))"
   ]
  },
  {
   "cell_type": "code",
   "execution_count": null,
   "id": "53606927-f41b-403c-8a48-68b4d3b99cd6",
   "metadata": {},
   "outputs": [],
   "source": []
  }
 ],
 "metadata": {
  "kernelspec": {
   "display_name": "Python 3 (ipykernel)",
   "language": "python",
   "name": "python3"
  },
  "language_info": {
   "codemirror_mode": {
    "name": "ipython",
    "version": 3
   },
   "file_extension": ".py",
   "mimetype": "text/x-python",
   "name": "python",
   "nbconvert_exporter": "python",
   "pygments_lexer": "ipython3",
   "version": "3.12.9"
  }
 },
 "nbformat": 4,
 "nbformat_minor": 5
}
