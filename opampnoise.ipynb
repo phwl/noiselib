{
 "cells": [
  {
   "cell_type": "markdown",
   "id": "81647732-fc0f-477d-add9-3fe4ae263ed4",
   "metadata": {},
   "source": [
    "# Noise Calculation\n",
    "\n",
    "Notebook to make calculations in <https://www.renesas.com/ja/document/apn/r13an0010-noise-calculations-op-amp-circuits>"
   ]
  },
  {
   "cell_type": "code",
   "execution_count": 1,
   "id": "f74b5fe9-31c9-4a7a-a894-dadb954710ff",
   "metadata": {},
   "outputs": [],
   "source": [
    "import math"
   ]
  },
  {
   "cell_type": "code",
   "execution_count": 2,
   "id": "db46bb7e-c4f9-4607-90c3-c646ef9a8710",
   "metadata": {},
   "outputs": [
    {
     "name": "stdout",
     "output_type": "stream",
     "text": [
      "n=1.57\n"
     ]
    }
   ],
   "source": [
    "# resistors in parallel\n",
    "def rparallel(r1, r2): return (1.0 / (1.0/r1 + 1.0/r2))\n",
    "\n",
    "# Thermal noise contribution\n",
    "def tnoise(b, r): return math.sqrt(4.0 * k * T * b * r)\n",
    "    \n",
    "# 1/f noise contribution\n",
    "def fnoise(f, n, fH, fL): return math.sqrt(f * math.log(fH / fL) + n * fH - fL)\n",
    "\n",
    "# this is the standard RMS to peak-to-peak conversion of 6.6 sigma (pg 4 of Art Kay, \"Operational Amplifier Noise\")\n",
    "def rmspp(v): return (v * 6.6)\n",
    "\n",
    "# volts to dbV\n",
    "def dbv(v): return (20.0 * math.log10(v))\n",
    "\n",
    "T = 298       # temperature in K\n",
    "k = 1.38e-23  # Boltzmann's constant\n",
    "\n",
    "# For conversion from -dB bandwidth to white noise equivalent bandwidth NEB\n",
    "narray = [0.0, 1.57, 1.22, 1.16, 1.13, 1.12]\n",
    "order = 1        # filter order\n",
    "n = narray[order]\n",
    "print(f\"n={n}\")"
   ]
  },
  {
   "cell_type": "code",
   "execution_count": 3,
   "id": "03137924-6160-4927-a889-10c8445288f1",
   "metadata": {},
   "outputs": [],
   "source": [
    "# Do the noise analysis\n",
    "def noisecalc(desc, GBW, fxe, fxi, enf, inf, enw, inw, R1, R2, R3, VOpp, Gn, Gs, fL, fH, verbose=False):\n",
    "    print(f\"*** {desc}\\n\")\n",
    "\n",
    "    # Bandwidth Limits\n",
    "    fce = fxe * ((enf / enw) ** 2.0 - 1.)\n",
    "    fci = fxi * ((inf / inw)** 2.0 - 1.)\n",
    "    NEB = n * fH - fL\n",
    "    \n",
    "    Rp = rparallel(R1, R2)\n",
    "    ERp = tnoise(NEB, Rp)\n",
    "    ER3 = tnoise(NEB, R3)\n",
    "    \n",
    "    Enn = Rp * inw * fnoise(fci, n, fH, fL)\n",
    "    Enp = R3 * inw * fnoise(fci, n, fH, fL)\n",
    "    \n",
    "    # opamp noise voltage\n",
    "    En = enw * fnoise(fce, n, fH, fL)\n",
    "\n",
    "    # total noise\n",
    "    Eni = math.sqrt(ERp * ERp + ER3 * ER3 + Enn * Enn + Enp * Enp + En * En)\n",
    "    Eno = Eni * Gn\n",
    "    Enipp = rmspp(Eni)   \n",
    "    SNR = 20 * math.log10(VOpp / (2.0 * math.sqrt(2.0) * Eno))\n",
    "    \n",
    "    # simplified formula\n",
    "    SEni = math.sqrt(ERp * ERp + ER3 * ER3 + En * En)\n",
    "    err = (Eni - SEni) / Eni\n",
    "\n",
    "    # print outputs\n",
    "    if (verbose):\n",
    "        print(\"-- Parameters\")\n",
    "        print(f\"R1={R1:.3e} (R1)\")\n",
    "        print(f\"R2={R2:.3e} (R2)\")\n",
    "        print(f\"R3={R3:.3e} (R3)\")\n",
    "        print(f\"Rp={Rp:.3e} (R1 || R2)\")\n",
    "        print(f\"Gn={Gn:.3e} (noise gain)\")\n",
    "        print(f\"Gs={Gs:.3e} (signal gain)\")\n",
    "        print(f\"NEB={NEB:.3e} (bandwidth)\")\n",
    "        print(f\"fce={fce:.3e} (voltage 1/f noise corner freq)\")\n",
    "        print(f\"fci={fci:.3e} (current 1/f noise corner freq)\")\n",
    "    \n",
    "        print(\"\\n-- Components\")\n",
    "        print(f\"ERp={ERp:.3e} (thermal noise negative terminal resistors)\")\n",
    "        print(f\"ER3={ER3:.3e} (thermal noise positive terminal resistors)\")\n",
    "        print(f\"Enn={Enn:.3e} (opamp current negative terminal)\")\n",
    "        print(f\"Enp={Enp:.3e} (opamp current positive terminal)\")\n",
    "        print(f\"En={En:.3e} (opamp input noise)\")\n",
    "\n",
    "    print(f\"\\n--Solution {desc}\")\n",
    "    # print(f\"SEni={SEni:.3e}, err = {100. * err}%\")\n",
    "    print(f\"Enipp={Enipp*1e6:.1f} uV {dbv(Enipp):.1f} dBV (Vpp in uV)\")\n",
    "    print(f\"Eni={Eni:.3e} {dbv(Eni):.1f} dBV (noise at input)\")\n",
    "    print(f\"Eno={Eno:.3e} {dbv(Eno):.1f} dBV (noise at output)\")\n",
    "    print(f\"SNR={SNR:.3f} dB\")"
   ]
  },
  {
   "cell_type": "code",
   "execution_count": 4,
   "id": "c0dfe84d-8912-4505-8de7-49af5fe5be45",
   "metadata": {},
   "outputs": [
    {
     "name": "stdout",
     "output_type": "stream",
     "text": [
      "*** Example in https://www.renesas.com/ja/document/apn/r13an0010-noise-calculations-op-amp-circuits\n",
      "\n",
      "\n",
      "--Solution Example in https://www.renesas.com/ja/document/apn/r13an0010-noise-calculations-op-amp-circuits\n",
      "Enipp=29.6 uV -90.6 dBV (Vpp in uV)\n",
      "Eni=4.489e-06 -107.0 dBV (noise at input)\n",
      "Eno=4.534e-04 -66.9 dBV (noise at output)\n",
      "SNR=71.094 dB\n"
     ]
    }
   ],
   "source": [
    "desc = \"Example in https://www.renesas.com/ja/document/apn/r13an0010-noise-calculations-op-amp-circuits\"\n",
    "# this reproduces the example in the app note\n",
    "GBW = 5e6      # gain bandwith MHz\n",
    "fxe = 10.      # frequency for specifying 1/f noise voltage\n",
    "fxi = 1.       # frequency for specifying 1/f noise current\n",
    "enf = 30e-9    # 1/f noise at 1 Hz\n",
    "inf = 8e-12    # 1/f noise at 1 Hz\n",
    "enw = 15e-9    # thermal noise voltage V/sqrt(Hz)\n",
    "inw = 0.35e-12 # thermal noise current A/sqrt(Hz)\n",
    "\n",
    "# Opamp circuit parameters\n",
    "R1 = 1.01e3\n",
    "R2 = 101e3\n",
    "R3 = 1e3\n",
    "Gn = 1 + R2 / R1    # noise gain\n",
    "Gs = -(R2 / R1)     # signal gain\n",
    "\n",
    "# frequencies\n",
    "fL = 0.1       # -3dB low bandwidth Hz\n",
    "fH = GBW / Gn  # -3dB upper bandwidth\n",
    "\n",
    "VOpp = 4.6    # output signal range\n",
    "\n",
    "noisecalc(desc, GBW, fxe, fxi, enf, inf, enw, inw, R1, R2, R3, VOpp, Gn, Gs, fL, fH)"
   ]
  },
  {
   "cell_type": "markdown",
   "id": "de931b72-af92-4c27-ad5d-a6ecf3d85376",
   "metadata": {},
   "source": [
    "We can calculate the 1/f noise voltage and current corner frequencies using:\n",
    "$$f_{ce}=f_{xe} ((\\frac{e_{nf(fe)}}{e_{nw}})^2-1)$$\n",
    "$$f_{ci}=f_{xi} ((\\frac{i_{nf(fi)}}{i_{nw}})^2-1)$$\n",
    "\n",
    "The white noise equivalent bandwidth "
   ]
  },
  {
   "cell_type": "markdown",
   "id": "0615282a-082c-43d6-b667-5fb66847946b",
   "metadata": {},
   "source": [
    "For thermal noise\n",
    "$$E_R = \\sqrt(4kTR(nf_H - f_L))$$\n",
    "\n",
    "For opamp current\n",
    "$$E_N = R i_{nw} \\sqrt(f_{ci} \\log(\\frac{f_H}{f_L}+nf_H - f_L))$$"
   ]
  },
  {
   "cell_type": "code",
   "execution_count": 8,
   "id": "04f19890-8f14-49a8-b80c-9f21798f724e",
   "metadata": {},
   "outputs": [
    {
     "name": "stdout",
     "output_type": "stream",
     "text": [
      "*** RF amplifier in ELEC3607\n",
      "\n",
      "-- Parameters\n",
      "R1=4.700e+01 (R1)\n",
      "R2=2.200e+02 (R2)\n",
      "R3=4.123e+01 (R3)\n",
      "Rp=3.873e+01 (R1 || R2)\n",
      "Gn=5.681e+00 (noise gain)\n",
      "Gs=5.681e+00 (signal gain)\n",
      "NEB=1.726e+08 (bandwidth)\n",
      "fce=1.405e+03 (voltage 1/f noise corner freq)\n",
      "fci=9.069e+03 (current 1/f noise corner freq)\n",
      "\n",
      "-- Components\n",
      "ERp=1.049e-05 (thermal noise negative terminal resistors)\n",
      "ER3=1.082e-05 (thermal noise positive terminal resistors)\n",
      "Enn=1.069e-06 (opamp current negative terminal)\n",
      "Enp=1.138e-06 (opamp current positive terminal)\n",
      "En=3.153e-05 (opamp input noise)\n",
      "\n",
      "--Solution RF amplifier in ELEC3607\n",
      "Enipp=230.9 uV -72.7 dBV (Vpp in uV)\n",
      "Eni=3.498e-05 -89.1 dBV (noise at input)\n",
      "Eno=1.987e-04 -74.0 dBV (noise at output)\n",
      "SNR=75.374 dB\n"
     ]
    }
   ],
   "source": [
    "desc = \"RF amplifier in ELEC3607\"\n",
    "# ELEC3607\n",
    "GBW = 900e6      # gain bandwith MHz\n",
    "fxe = 1.      # frequency for specifying 1/f noise voltage\n",
    "fxi = 1.       # frequency for specifying 1/f noise current\n",
    "enf = 90e-9    # 1/f noise at 1 Hz\n",
    "inf = 200e-12    # 1/f noise at 1 Hz\n",
    "enw = 2.4e-9    # thermal noise voltage V/sqrt(Hz)\n",
    "inw = 2.1e-12 # thermal noise current A/sqrt(Hz)\n",
    "\n",
    "# Opamp circuit parameters\n",
    "R1 = 47.\n",
    "R2 = 220.\n",
    "R3 = rparallel(50., 470.0 / 2.0)\n",
    "VOpp = 3.3    # output signal range\n",
    "Gn = 1 + R2 / R1    # noise gain\n",
    "Gs = Gn     # signal gain\n",
    "\n",
    "# frequencies\n",
    "fL = 80e3       # -3dB low bandwidth Hz\n",
    "fH = 110e6  # -3dB upper bandwidth\n",
    "\n",
    "noisecalc(desc, GBW, fxe, fxi, enf, inf, enw, inw, R1, R2, R3, VOpp, Gn, Gs, fL, fH, verbose=True)"
   ]
  },
  {
   "cell_type": "code",
   "execution_count": 6,
   "id": "c296ff24-9573-4d8f-a816-f3072a6ec7c6",
   "metadata": {},
   "outputs": [
    {
     "name": "stdout",
     "output_type": "stream",
     "text": [
      "*** RF amplifier in ELEC3607 with BPF (3.3V)\n",
      "\n",
      "\n",
      "--Solution RF amplifier in ELEC3607 with BPF (3.3V)\n",
      "Enipp=37.9 uV -88.4 dBV (Vpp in uV)\n",
      "Eni=5.748e-06 -104.8 dBV (noise at input)\n",
      "Eno=3.266e-05 -89.7 dBV (noise at output)\n",
      "SNR=91.060 dB\n"
     ]
    }
   ],
   "source": [
    "desc = \"RF amplifier in ELEC3607 with BPF (3.3V)\"\n",
    "# ELEC3607\n",
    "GBW = 900e6      # gain bandwith MHz\n",
    "fxe = 1.      # frequency for specifying 1/f noise voltage\n",
    "fxi = 1.       # frequency for specifying 1/f noise current\n",
    "enf = 90e-9    # 1/f noise at 1 Hz\n",
    "inf = 200e-12    # 1/f noise at 1 Hz\n",
    "enw = 2.4e-9    # thermal noise voltage V/sqrt(Hz)\n",
    "inw = 2.1e-12 # thermal noise current A/sqrt(Hz)\n",
    "\n",
    "# Opamp circuit parameters\n",
    "R1 = 47.\n",
    "R2 = 220.\n",
    "R3 = rparallel(50., 470.0 / 2.0)\n",
    "VOpp = 3.3    # output signal range\n",
    "Gn = 1 + R2 / R1    # noise gain\n",
    "Gs = Gn     # signal gain\n",
    "\n",
    "# frequencies\n",
    "fL = 6.8e6       # -3dB low bandwidth Hz\n",
    "fH = 7.3e6  # -3dB upper bandwidth\n",
    "\n",
    "noisecalc(desc, GBW, fxe, fxi, enf, inf, enw, inw, R1, R2, R3, VOpp, Gn, Gs, fL, fH)"
   ]
  },
  {
   "cell_type": "code",
   "execution_count": 7,
   "id": "c3816ec6-f56a-4444-9dcc-eec001254737",
   "metadata": {},
   "outputs": [
    {
     "name": "stdout",
     "output_type": "stream",
     "text": [
      "*** RF amplifier in ELEC3607 with BPF (5V)\n",
      "\n",
      "\n",
      "--Solution RF amplifier in ELEC3607 with BPF (5V)\n",
      "Enipp=37.9 uV -88.4 dBV (Vpp in uV)\n",
      "Eni=5.748e-06 -104.8 dBV (noise at input)\n",
      "Eno=3.266e-05 -89.7 dBV (noise at output)\n",
      "SNR=94.669 dB\n"
     ]
    }
   ],
   "source": [
    "desc = \"RF amplifier in ELEC3607 with BPF (5V)\"\n",
    "# ELEC3607\n",
    "GBW = 900e6      # gain bandwith MHz\n",
    "fxe = 1.      # frequency for specifying 1/f noise voltage\n",
    "fxi = 1.       # frequency for specifying 1/f noise current\n",
    "enf = 90e-9    # 1/f noise at 1 Hz\n",
    "inf = 200e-12    # 1/f noise at 1 Hz\n",
    "enw = 2.4e-9    # thermal noise voltage V/sqrt(Hz)\n",
    "inw = 2.1e-12 # thermal noise current A/sqrt(Hz)\n",
    "\n",
    "# Opamp circuit parameters\n",
    "R1 = 47.\n",
    "R2 = 220.\n",
    "R3 = rparallel(50., 470.0 / 2.0)\n",
    "VOpp = 5    # output signal range\n",
    "Gn = 1 + R2 / R1    # noise gain\n",
    "Gs = Gn     # signal gain\n",
    "\n",
    "# frequencies\n",
    "fL = 6.8e6       # -3dB low bandwidth Hz\n",
    "fH = 7.3e6  # -3dB upper bandwidth\n",
    "\n",
    "noisecalc(desc, GBW, fxe, fxi, enf, inf, enw, inw, R1, R2, R3, VOpp, Gn, Gs, fL, fH)"
   ]
  },
  {
   "cell_type": "code",
   "execution_count": null,
   "id": "3e5a04cd-d768-489a-8200-f215495af9bc",
   "metadata": {},
   "outputs": [],
   "source": []
  }
 ],
 "metadata": {
  "kernelspec": {
   "display_name": "Python 3 (ipykernel)",
   "language": "python",
   "name": "python3"
  },
  "language_info": {
   "codemirror_mode": {
    "name": "ipython",
    "version": 3
   },
   "file_extension": ".py",
   "mimetype": "text/x-python",
   "name": "python",
   "nbconvert_exporter": "python",
   "pygments_lexer": "ipython3",
   "version": "3.12.9"
  }
 },
 "nbformat": 4,
 "nbformat_minor": 5
}
