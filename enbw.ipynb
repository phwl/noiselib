{
 "cells": [
  {
   "cell_type": "markdown",
   "id": "1fc5b91a",
   "metadata": {},
   "source": [
    "# Effective Noise Bandwidth for a Low Pass Filter"
   ]
  },
  {
   "cell_type": "markdown",
   "id": "f347aeeb",
   "metadata": {},
   "source": [
    "Consider an N-th order Butterworth filter with the frequency response:\n",
    "$$H(j\\omega)=\\frac{1}{\\sqrt(1+(\\frac{s}{\\omega_O})^{2N})}.$$\n",
    "The  Equivalent Noise Bandwidth (ENBW) is the bandwidth of an equivalent rectangular (brick wall) filter that passes the same amount of noise power as the actual filter. It can be calculated using: \n",
    "$$\\begin{eqnarray}\\text{ENBW}&=&\\int_{0}^{\\infty} |H(j\\omega)|^2 d\\omega.\n",
    "\\end{eqnarray}$$\n",
    "This notebook numerically computes the above for different $N$."
   ]
  },
  {
   "cell_type": "code",
   "execution_count": 10,
   "id": "94176015",
   "metadata": {},
   "outputs": [],
   "source": [
    "import noiselib as nl"
   ]
  },
  {
   "cell_type": "code",
   "execution_count": 13,
   "id": "73f80c4b-78ff-4288-98ec-10fe52ef3b7a",
   "metadata": {},
   "outputs": [
    {
     "name": "stdout",
     "output_type": "stream",
     "text": [
      "from scipy import signal, integrate\n",
      "import matplotlib.pyplot as plt\n",
      "import numpy as np\n",
      "import math\n",
      "\n",
      "# calculate the enbw for N\n",
      "def enbw(N, f1=0.1, f2=1e6, doPlot=False):\n",
      "    # a function that returns the power at angular frequency w1\n",
      "    def H(b, a, w):\n",
      "        wx, hx = signal.freqs(b, a, w)\n",
      "        return abs(hx) ** 2.0\n",
      "\n",
      "    # generate the filter\n",
      "    b, a = signal.butter(N, 1, 'low', analog=True) \n",
      "    \n",
      "    # compute the integral\n",
      "    bw, err = integrate.quad(lambda w : H(b, a, w), 0, np.inf)  \n",
      "    \n",
      "    # optionally plot the result\n",
      "    if doPlot:\n",
      "        space=np.logspace(math.log10(f1), math.log10(f2), 5)\n",
      "        w, h = signal.freqs(b, a, space)\n",
      "        plt.semilogx(w, 20 * np.log10(abs(h)))\n",
      "        plt.title('Butterworth filter frequency response')\n",
      "        plt.xlabel('Frequency [rad/s]')\n",
      "        plt.ylabel('Amplitude [dB]')\n",
      "        plt.margins(0, 0.1)\n",
      "        plt.grid(which='both', axis='both')\n",
      "        plt.axvline(100, color='green') # cutoff frequency\n",
      "        plt.show()\n",
      "        \n",
      "    "
     ]
    },
    {
     "data": {
      "text/plain": [
       "0"
      ]
     },
     "execution_count": 13,
     "metadata": {},
     "output_type": "execute_result"
    },
    {
     "name": "stdout",
     "output_type": "stream",
     "text": [
      "return bw"
     ]
    }
   ],
   "source": [
    "# Show what is inside noiselib.py\n",
    "from os import system\n",
    "system(\"cat noiselib.py\")"
   ]
  },
  {
   "cell_type": "code",
   "execution_count": 11,
   "id": "444b8543-15a2-4ea3-b5fc-761c57fa4c87",
   "metadata": {},
   "outputs": [
    {
     "data": {
      "text/markdown": [
       "| Order | ENBW  |\n",
       "|-------|-------|\n",
       "| 1 | 1.5708 |\n",
       "| 2 | 1.1107 |\n",
       "| 3 | 1.0472 |\n",
       "| 4 | 1.0262 |\n"
      ],
      "text/plain": [
       "<IPython.core.display.Markdown object>"
      ]
     },
     "metadata": {},
     "output_type": "display_data"
    }
   ],
   "source": [
    "from IPython.display import display, Markdown, Latex\n",
    "out = f'''| Order | ENBW  |\n",
    "|-------|-------|\\n'''\n",
    "for N in range(1, 5):\n",
    "    out += f'| {N} | {nl.enbw(N):.4f} |\\n'\n",
    "display(Markdown(out))"
   ]
  },
  {
   "cell_type": "code",
   "execution_count": null,
   "id": "d33bce20-4e52-48f4-ae67-2359c63f8fe3",
   "metadata": {},
   "outputs": [],
   "source": []
  }
 ],
 "metadata": {
  "kernelspec": {
   "display_name": "Python 3 (ipykernel)",
   "language": "python",
   "name": "python3"
  },
  "language_info": {
   "codemirror_mode": {
    "name": "ipython",
    "version": 3
   },
   "file_extension": ".py",
   "mimetype": "text/x-python",
   "name": "python",
   "nbconvert_exporter": "python",
   "pygments_lexer": "ipython3",
   "version": "3.12.9"
  }
 },
 "nbformat": 4,
 "nbformat_minor": 5
}
