{
 "cells": [
  {
   "cell_type": "markdown",
   "id": "1fc5b91a",
   "metadata": {},
   "source": [
    "# Noise Equivalent Bandwidth for a Low Pass Filter"
   ]
  },
  {
   "cell_type": "markdown",
   "id": "f347aeeb",
   "metadata": {},
   "source": [
    "The Noise Equivalent Bandwidth (NEB) of a filter is the bandwidth of an equivalent rectangular (brick wall) filter that passes the same amount of noise power as the actual filter. For a filter with response $H(w)$ this is given by: $$\\text{ENBW}=\\int_{w_1}^{w_2} |H(w)|^2 dw$$"
   ]
  },
  {
   "cell_type": "code",
   "execution_count": 1,
   "id": "94176015",
   "metadata": {},
   "outputs": [],
   "source": [
    "from scipy import signal, integrate\n",
    "import matplotlib.pyplot as plt\n",
    "import numpy as np\n",
    "import math"
   ]
  },
  {
   "cell_type": "code",
   "execution_count": 2,
   "id": "07aa4892",
   "metadata": {},
   "outputs": [],
   "source": [
    "# calculate the enbw for N\n",
    "def enbw(N, f1=0.1, f2=1e6, doPlot=False):\n",
    "    # a function that returns the power at angular frequency w1\n",
    "    def H(b, a, w):\n",
    "        wx, hx = signal.freqs(b, a, w)\n",
    "        return abs(hx) ** 2.0\n",
    "\n",
    "    # generate the filter\n",
    "    b, a = signal.butter(N, 1, 'low', analog=True) \n",
    "    \n",
    "    # compute the integral\n",
    "    bw, err = integrate.quad(lambda w : H(b, a, w), 0, np.inf)  \n",
    "    \n",
    "    # optionally plot the result\n",
    "    if doPlot:\n",
    "        space=np.logspace(math.log10(f1), math.log10(f2), 5)\n",
    "        w, h = signal.freqs(b, a, space)\n",
    "        plt.semilogx(w, 20 * np.log10(abs(h)))\n",
    "        plt.title('Butterworth filter frequency response')\n",
    "        plt.xlabel('Frequency [rad/s]')\n",
    "        plt.ylabel('Amplitude [dB]')\n",
    "        plt.margins(0, 0.1)\n",
    "        plt.grid(which='both', axis='both')\n",
    "        plt.axvline(100, color='green') # cutoff frequency\n",
    "        plt.show()\n",
    "        \n",
    "    return bw"
   ]
  },
  {
   "cell_type": "code",
   "execution_count": 3,
   "id": "924a4115",
   "metadata": {},
   "outputs": [
    {
     "name": "stdout",
     "output_type": "stream",
     "text": [
      "Order: 1, ENBW: 1.5708\n",
      "Order: 2, ENBW: 1.1107\n",
      "Order: 3, ENBW: 1.0472\n",
      "Order: 4, ENBW: 1.0262\n",
      "Order: 5, ENBW: 1.0166\n",
      "Order: 6, ENBW: 1.0115\n",
      "Order: 7, ENBW: 1.0084\n"
     ]
    }
   ],
   "source": [
    "for N in range(1, 8):\n",
    "    print(f'Order: {N}, ENBW: {enbw(N):.4f}')"
   ]
  },
  {
   "cell_type": "code",
   "execution_count": null,
   "id": "46ed6f9c",
   "metadata": {},
   "outputs": [],
   "source": []
  }
 ],
 "metadata": {
  "kernelspec": {
   "display_name": "Python 3 (ipykernel)",
   "language": "python",
   "name": "python3"
  },
  "language_info": {
   "codemirror_mode": {
    "name": "ipython",
    "version": 3
   },
   "file_extension": ".py",
   "mimetype": "text/x-python",
   "name": "python",
   "nbconvert_exporter": "python",
   "pygments_lexer": "ipython3",
   "version": "3.9.12"
  }
 },
 "nbformat": 4,
 "nbformat_minor": 5
}
